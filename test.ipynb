{
 "cells": [
  {
   "cell_type": "markdown",
   "metadata": {},
   "source": [
    "Imports"
   ]
  },
  {
   "cell_type": "code",
   "execution_count": 349,
   "metadata": {},
   "outputs": [],
   "source": [
    "import pandas as pd\n",
    "import pickle"
   ]
  },
  {
   "cell_type": "markdown",
   "metadata": {},
   "source": [
    "Input (Enter your values here)"
   ]
  },
  {
   "cell_type": "code",
   "execution_count": 350,
   "metadata": {},
   "outputs": [],
   "source": [
    "input = {\n",
    "    # Input Parameters\n",
    "    \"Age\" : 60,              # Age (years)\n",
    "\n",
    "    \"Sex\" : 'M',             # 'M' (Male) or 'F' (Female)\n",
    "\n",
    "    \"ChestPainType\" : 'ASY', # 'TA' (Typical Angina), 'ATA' (Atypical Angina), \n",
    "                             # 'NAP' (Non-Anginal Pain), 'ASY' (Asymptomatic)\n",
    "\n",
    "    \"RestingBP\" : 100,       # Resting Blood Pressure (mm Hg)\n",
    "\n",
    "    \"Cholesterol\" : 248,     # Serum Cholesterol (mm/dl)\n",
    "\n",
    "    \"FastingBS\" : 0,         # Fasting Blood Sugar (mg/dl)\n",
    "                             # 1 if FastingBS > 120, otherwise 0\n",
    "\n",
    "    \"RestingECG\" : 'Normal', # Resting Electrocardiogram Results\n",
    "                             # 'Normal': Normal, \n",
    "                             # 'ST':     having ST-T wave abnormality \n",
    "                             # 'LVH':    showing probable or definite left \n",
    "                             #           ventricular hypertrophy by Estes' \n",
    "                             #           criteria\n",
    "\n",
    "    \"MaxHR\" : 125,           # Max heart rate achieved\n",
    "                             # (should be between 60 to 202)\n",
    "                              \n",
    "    \"ExerciseAngina\" : 'N',  # Exercise induced angina: 'Y' (Yes) / 'N' (No) \n",
    "\n",
    "    \"Oldpeak\" : 1.0,         # ST (Numeric values measured in depression)\n",
    "    \n",
    "    \"ST_Slope\" : 'Flat'      # Slope of the peak exercise ST segment\n",
    "                             # 'Up':   upsloping\n",
    "                             # 'Flat': flat\n",
    "                             # 'Down': downsloping\n",
    "}\n",
    "\n",
    "# Output should be 1 (Heart Disease) by the following model for this input"
   ]
  },
  {
   "cell_type": "code",
   "execution_count": 351,
   "metadata": {},
   "outputs": [],
   "source": [
    "df = pd.DataFrame([input])\n",
    "string_col = df.select_dtypes(include=\"object\").columns\n",
    "df[string_col] = df[string_col].astype(\"string\")\n",
    "\n",
    "string_col = df.select_dtypes(\"string\").columns.to_list()\n",
    "num_col = df.columns.to_list()\n",
    "for col in string_col:\n",
    "    num_col.remove(col)\n",
    "\n",
    "target = \"HeartDisease\""
   ]
  },
  {
   "cell_type": "code",
   "execution_count": 352,
   "metadata": {},
   "outputs": [],
   "source": [
    "# One Hot Encoding\n",
    "df_nontree = pd.get_dummies(df, columns=string_col, drop_first=False)\n",
    "bool_cols = df.select_dtypes(include=['bool']).columns\n",
    "df_nontree[bool_cols] = df_nontree[bool_cols].astype(int)"
   ]
  },
  {
   "cell_type": "code",
   "execution_count": 353,
   "metadata": {},
   "outputs": [],
   "source": [
    "# Label Encoding\n",
    "from sklearn.preprocessing import LabelEncoder\n",
    "df_tree = df.apply(LabelEncoder().fit_transform)"
   ]
  },
  {
   "cell_type": "code",
   "execution_count": 354,
   "metadata": {},
   "outputs": [],
   "source": [
    "# loading the dataframe from training models (nontree)\n",
    "dfNontree = pickle.load(open(\"dfNontree.pkl\", \"rb\"))\n",
    "\n",
    "features_col_nontree = dfNontree.columns.to_list()\n",
    "features_col_nontree.remove(target)\n",
    "\n",
    "missing_cols = set(dfNontree.columns) - set(df_nontree.columns) - {target}\n",
    "for col in missing_cols:\n",
    "    df_nontree[col] = 0\n",
    "\n",
    "df_nontree = df_nontree[features_col_nontree]"
   ]
  },
  {
   "cell_type": "code",
   "execution_count": 355,
   "metadata": {},
   "outputs": [],
   "source": [
    "# loading the dataframe from training models (tree)\n",
    "dfTree = pickle.load(open(\"dfTree.pkl\", \"rb\"))\n",
    "\n",
    "features_col_tree = dfTree.columns.to_list()\n",
    "features_col_tree.remove(target)"
   ]
  },
  {
   "cell_type": "code",
   "execution_count": 356,
   "metadata": {},
   "outputs": [
    {
     "name": "stderr",
     "output_type": "stream",
     "text": [
      "/home/addy/Desktop/Heart-Disease-Prediction-Capstone-Project-Group-55/.venv/lib/python3.12/site-packages/sklearn/base.py:380: InconsistentVersionWarning: Trying to unpickle estimator MinMaxScaler from version 1.5.2 when using version 1.6.0. This might lead to breaking code or invalid results. Use at your own risk. For more info please refer to:\n",
      "https://scikit-learn.org/stable/model_persistence.html#security-maintainability-limitations\n",
      "  warnings.warn(\n"
     ]
    }
   ],
   "source": [
    "# loading the scaler back from training to scale input data\n",
    "scaler = pickle.load(open(\"MinMaxScaler.pkl\", \"rb\"))\n",
    "scaled_df_nontree = scaler.transform(df_nontree)"
   ]
  },
  {
   "cell_type": "markdown",
   "metadata": {},
   "source": [
    "Logistic Regression Model"
   ]
  },
  {
   "cell_type": "code",
   "execution_count": 357,
   "metadata": {},
   "outputs": [
    {
     "name": "stdout",
     "output_type": "stream",
     "text": [
      "Prediction: [1]\n",
      "Probability: [[0.15403369 0.84596631]]\n"
     ]
    },
    {
     "name": "stderr",
     "output_type": "stream",
     "text": [
      "/home/addy/Desktop/Heart-Disease-Prediction-Capstone-Project-Group-55/.venv/lib/python3.12/site-packages/sklearn/base.py:380: InconsistentVersionWarning: Trying to unpickle estimator LogisticRegression from version 1.5.2 when using version 1.6.0. This might lead to breaking code or invalid results. Use at your own risk. For more info please refer to:\n",
      "https://scikit-learn.org/stable/model_persistence.html#security-maintainability-limitations\n",
      "  warnings.warn(\n"
     ]
    }
   ],
   "source": [
    "lrModel = pickle.load(open(\"Models/Logistic Regression/logisticRegressionModel.pkl\", \"rb\"))\n",
    "print(f\"Prediction: {lrModel.predict(scaled_df_nontree)}\")\n",
    "print(f\"Probability: {lrModel.predict_proba(scaled_df_nontree)}\")\n",
    "# 0 - Normal\n",
    "# 1 - HeartDisease"
   ]
  },
  {
   "cell_type": "markdown",
   "metadata": {},
   "source": [
    "Naive Bayers Model"
   ]
  },
  {
   "cell_type": "code",
   "execution_count": 358,
   "metadata": {},
   "outputs": [
    {
     "name": "stdout",
     "output_type": "stream",
     "text": [
      "Prediction: [1]\n",
      "Probability: [[0.00302467 0.99697533]]\n"
     ]
    },
    {
     "name": "stderr",
     "output_type": "stream",
     "text": [
      "/home/addy/Desktop/Heart-Disease-Prediction-Capstone-Project-Group-55/.venv/lib/python3.12/site-packages/sklearn/base.py:380: InconsistentVersionWarning: Trying to unpickle estimator GaussianNB from version 1.5.2 when using version 1.6.0. This might lead to breaking code or invalid results. Use at your own risk. For more info please refer to:\n",
      "https://scikit-learn.org/stable/model_persistence.html#security-maintainability-limitations\n",
      "  warnings.warn(\n"
     ]
    }
   ],
   "source": [
    "nbModel = pickle.load(open(\"Models/Naive Bayers/naiveBayersModel.pkl\", \"rb\"))\n",
    "print(f\"Prediction: {nbModel.predict(scaled_df_nontree)}\")\n",
    "print(f\"Probability: {nbModel.predict_proba(scaled_df_nontree)}\")\n",
    "# 0 - Normal\n",
    "# 1 - HeartDisease"
   ]
  },
  {
   "cell_type": "markdown",
   "metadata": {},
   "source": [
    "Support Vector Machines (SVM)"
   ]
  },
  {
   "cell_type": "markdown",
   "metadata": {},
   "source": [
    "Linear Kernel:"
   ]
  },
  {
   "cell_type": "code",
   "execution_count": 359,
   "metadata": {},
   "outputs": [
    {
     "name": "stdout",
     "output_type": "stream",
     "text": [
      "Prediction: [1]\n",
      "Probability: [[0.17063222 0.82936778]]\n"
     ]
    },
    {
     "name": "stderr",
     "output_type": "stream",
     "text": [
      "/home/addy/Desktop/Heart-Disease-Prediction-Capstone-Project-Group-55/.venv/lib/python3.12/site-packages/sklearn/base.py:380: InconsistentVersionWarning: Trying to unpickle estimator SVC from version 1.5.2 when using version 1.6.0. This might lead to breaking code or invalid results. Use at your own risk. For more info please refer to:\n",
      "https://scikit-learn.org/stable/model_persistence.html#security-maintainability-limitations\n",
      "  warnings.warn(\n"
     ]
    }
   ],
   "source": [
    "linearSVMModel = pickle.load(open(\"Models/Support Vector Machines/Linear Kernel/linearKernelSVM.pkl\", \"rb\"))\n",
    "print(f\"Prediction: {linearSVMModel.predict(scaled_df_nontree)}\")\n",
    "print(f\"Probability: {linearSVMModel.predict_proba(scaled_df_nontree)}\")\n",
    "# 0 - Normal\n",
    "# 1 - HeartDisease"
   ]
  },
  {
   "cell_type": "markdown",
   "metadata": {},
   "source": [
    "Sigmoid Kernel:"
   ]
  },
  {
   "cell_type": "code",
   "execution_count": 360,
   "metadata": {},
   "outputs": [
    {
     "name": "stdout",
     "output_type": "stream",
     "text": [
      "Prediction: [1]\n",
      "Probability: [[0.31794056 0.68205944]]\n"
     ]
    },
    {
     "name": "stderr",
     "output_type": "stream",
     "text": [
      "/home/addy/Desktop/Heart-Disease-Prediction-Capstone-Project-Group-55/.venv/lib/python3.12/site-packages/sklearn/base.py:380: InconsistentVersionWarning: Trying to unpickle estimator SVC from version 1.5.2 when using version 1.6.0. This might lead to breaking code or invalid results. Use at your own risk. For more info please refer to:\n",
      "https://scikit-learn.org/stable/model_persistence.html#security-maintainability-limitations\n",
      "  warnings.warn(\n"
     ]
    }
   ],
   "source": [
    "sigmoidSVMModel = pickle.load(open(\"Models/Support Vector Machines/Sigmoid Kernel/sigmoidKernelSVM.pkl\", \"rb\"))\n",
    "print(f\"Prediction: {sigmoidSVMModel.predict(scaled_df_nontree)}\")\n",
    "print(f\"Probability: {sigmoidSVMModel.predict_proba(scaled_df_nontree)}\")\n",
    "# 0 - Normal\n",
    "# 1 - HeartDisease"
   ]
  },
  {
   "cell_type": "markdown",
   "metadata": {},
   "source": [
    "RBF Kernel:"
   ]
  },
  {
   "cell_type": "code",
   "execution_count": 361,
   "metadata": {},
   "outputs": [
    {
     "name": "stdout",
     "output_type": "stream",
     "text": [
      "Prediction: [1]\n",
      "Probability: [[0.11797436 0.88202564]]\n"
     ]
    },
    {
     "name": "stderr",
     "output_type": "stream",
     "text": [
      "/home/addy/Desktop/Heart-Disease-Prediction-Capstone-Project-Group-55/.venv/lib/python3.12/site-packages/sklearn/base.py:380: InconsistentVersionWarning: Trying to unpickle estimator SVC from version 1.5.2 when using version 1.6.0. This might lead to breaking code or invalid results. Use at your own risk. For more info please refer to:\n",
      "https://scikit-learn.org/stable/model_persistence.html#security-maintainability-limitations\n",
      "  warnings.warn(\n"
     ]
    }
   ],
   "source": [
    "rbfSVMModel = pickle.load(open(\"Models/Support Vector Machines/RBF Kernel/rbfKernelSVM.pkl\", \"rb\"))\n",
    "print(f\"Prediction: {rbfSVMModel.predict(scaled_df_nontree)}\")\n",
    "print(f\"Probability: {rbfSVMModel.predict_proba(scaled_df_nontree)}\")\n",
    "# 0 - Normal\n",
    "# 1 - HeartDisease"
   ]
  },
  {
   "cell_type": "markdown",
   "metadata": {},
   "source": [
    "Polynomial Kernel:"
   ]
  },
  {
   "cell_type": "code",
   "execution_count": 362,
   "metadata": {},
   "outputs": [
    {
     "name": "stdout",
     "output_type": "stream",
     "text": [
      "Prediction: [1]\n",
      "Probability: [[0.15182725 0.84817275]]\n"
     ]
    },
    {
     "name": "stderr",
     "output_type": "stream",
     "text": [
      "/home/addy/Desktop/Heart-Disease-Prediction-Capstone-Project-Group-55/.venv/lib/python3.12/site-packages/sklearn/base.py:380: InconsistentVersionWarning: Trying to unpickle estimator SVC from version 1.5.2 when using version 1.6.0. This might lead to breaking code or invalid results. Use at your own risk. For more info please refer to:\n",
      "https://scikit-learn.org/stable/model_persistence.html#security-maintainability-limitations\n",
      "  warnings.warn(\n"
     ]
    }
   ],
   "source": [
    "polySVMModel = pickle.load(open(\"Models/Support Vector Machines/Polynomial Kernel/polynomialKernelSVM.pkl\", \"rb\"))\n",
    "print(f\"Prediction: {polySVMModel.predict(scaled_df_nontree)}\")\n",
    "print(f\"Probability: {polySVMModel.predict_proba(scaled_df_nontree)}\")\n",
    "# 0 - Normal\n",
    "# 1 - HeartDisease"
   ]
  },
  {
   "cell_type": "markdown",
   "metadata": {},
   "source": [
    "KNN"
   ]
  },
  {
   "cell_type": "code",
   "execution_count": 363,
   "metadata": {},
   "outputs": [
    {
     "name": "stdout",
     "output_type": "stream",
     "text": [
      "Prediction: [1]\n",
      "Probability: [[0.09375 0.90625]]\n"
     ]
    },
    {
     "name": "stderr",
     "output_type": "stream",
     "text": [
      "/home/addy/Desktop/Heart-Disease-Prediction-Capstone-Project-Group-55/.venv/lib/python3.12/site-packages/sklearn/base.py:380: InconsistentVersionWarning: Trying to unpickle estimator KNeighborsClassifier from version 1.5.2 when using version 1.6.0. This might lead to breaking code or invalid results. Use at your own risk. For more info please refer to:\n",
      "https://scikit-learn.org/stable/model_persistence.html#security-maintainability-limitations\n",
      "  warnings.warn(\n"
     ]
    }
   ],
   "source": [
    "knnModel = pickle.load(open(\"Models/KNN/knnModel.pkl\", \"rb\"))\n",
    "print(f\"Prediction: {knnModel.predict(scaled_df_nontree)}\")\n",
    "print(f\"Probability: {knnModel.predict_proba(scaled_df_nontree)}\")\n",
    "# 0 - Normal\n",
    "# 1 - HeartDisease"
   ]
  },
  {
   "cell_type": "markdown",
   "metadata": {},
   "source": [
    "Decision Tree Classifier"
   ]
  },
  {
   "cell_type": "code",
   "execution_count": 364,
   "metadata": {},
   "outputs": [
    {
     "name": "stdout",
     "output_type": "stream",
     "text": [
      "Prediction: [1]\n",
      "Probability: [[0. 1.]]\n"
     ]
    },
    {
     "name": "stderr",
     "output_type": "stream",
     "text": [
      "/home/addy/Desktop/Heart-Disease-Prediction-Capstone-Project-Group-55/.venv/lib/python3.12/site-packages/sklearn/base.py:380: InconsistentVersionWarning: Trying to unpickle estimator DecisionTreeClassifier from version 1.5.2 when using version 1.6.0. This might lead to breaking code or invalid results. Use at your own risk. For more info please refer to:\n",
      "https://scikit-learn.org/stable/model_persistence.html#security-maintainability-limitations\n",
      "  warnings.warn(\n"
     ]
    }
   ],
   "source": [
    "dtcModel = pickle.load(open(\"Models/Decision Tree/decisionTreeClassifierModel.pkl\", \"rb\"))\n",
    "print(f\"Prediction: {dtcModel.predict(df_tree)}\")\n",
    "print(f\"Probability: {dtcModel.predict_proba(df_tree)}\")\n",
    "# 0 - Normal\n",
    "# 1 - HeartDisease"
   ]
  },
  {
   "cell_type": "markdown",
   "metadata": {},
   "source": [
    "Random Forest"
   ]
  },
  {
   "cell_type": "code",
   "execution_count": 365,
   "metadata": {},
   "outputs": [
    {
     "name": "stdout",
     "output_type": "stream",
     "text": [
      "Prediction: [1]\n",
      "Probability: [[0.29 0.71]]\n"
     ]
    },
    {
     "name": "stderr",
     "output_type": "stream",
     "text": [
      "/home/addy/Desktop/Heart-Disease-Prediction-Capstone-Project-Group-55/.venv/lib/python3.12/site-packages/sklearn/base.py:380: InconsistentVersionWarning: Trying to unpickle estimator DecisionTreeClassifier from version 1.5.2 when using version 1.6.0. This might lead to breaking code or invalid results. Use at your own risk. For more info please refer to:\n",
      "https://scikit-learn.org/stable/model_persistence.html#security-maintainability-limitations\n",
      "  warnings.warn(\n",
      "/home/addy/Desktop/Heart-Disease-Prediction-Capstone-Project-Group-55/.venv/lib/python3.12/site-packages/sklearn/base.py:380: InconsistentVersionWarning: Trying to unpickle estimator RandomForestClassifier from version 1.5.2 when using version 1.6.0. This might lead to breaking code or invalid results. Use at your own risk. For more info please refer to:\n",
      "https://scikit-learn.org/stable/model_persistence.html#security-maintainability-limitations\n",
      "  warnings.warn(\n"
     ]
    }
   ],
   "source": [
    "rfModel = pickle.load(open(\"Models/Random Forest/randomForestModel.pkl\", \"rb\"))\n",
    "print(f\"Prediction: {rfModel.predict(df_tree)}\")\n",
    "print(f\"Probability: {rfModel.predict_proba(df_tree)}\")\n",
    "# 0 - Normal\n",
    "# 1 - HeartDisease"
   ]
  },
  {
   "cell_type": "markdown",
   "metadata": {},
   "source": [
    "XGBoost"
   ]
  },
  {
   "cell_type": "code",
   "execution_count": 366,
   "metadata": {},
   "outputs": [
    {
     "name": "stdout",
     "output_type": "stream",
     "text": [
      "Prediction: [1]\n",
      "Probability: [[0.01692301 0.983077  ]]\n"
     ]
    }
   ],
   "source": [
    "xgbModel = pickle.load(open(\"Models/XGBoost/xgboostModel.pkl\", \"rb\"))\n",
    "print(f\"Prediction: {xgbModel.predict(df_tree)}\")\n",
    "print(f\"Probability: {xgbModel.predict_proba(df_tree)}\")\n",
    "# 0 - Normal\n",
    "# 1 - HeartDisease"
   ]
  },
  {
   "cell_type": "markdown",
   "metadata": {},
   "source": [
    "Neural Networks"
   ]
  },
  {
   "cell_type": "code",
   "execution_count": 411,
   "metadata": {},
   "outputs": [
    {
     "name": "stdout",
     "output_type": "stream",
     "text": [
      "\u001b[1m1/1\u001b[0m \u001b[32m━━━━━━━━━━━━━━━━━━━━\u001b[0m\u001b[37m\u001b[0m \u001b[1m1s\u001b[0m 1s/step   \n",
      "Prediciton: [[1]]\n",
      "Probability: [[0.9992606]]\n"
     ]
    }
   ],
   "source": [
    "import tensorflow as tf\n",
    "from tensorflow.keras.layers import Dropout\n",
    "from tensorflow.keras.saving import register_keras_serializable\n",
    "import numpy as np\n",
    "\n",
    "@register_keras_serializable()\n",
    "class improvedModelMCDropout(Dropout):\n",
    "    def call(self, inputs, training=None):\n",
    "        return super().call(inputs, training=True)\n",
    "\n",
    "threshold = 0.5\n",
    "nn_Model = tf.keras.models.load_model('improvedNeuralNetworkModel.keras', custom_objects={'improvedModelMCDropout' : improvedModelMCDropout})\n",
    "pred = nn_Model.predict(df_tree)\n",
    "binary_pred = np.where(pred > threshold, 1, 0)\n",
    "print(f\"Prediciton: {binary_pred}\")\n",
    "print(f\"Probability: {pred}\")"
   ]
  }
 ],
 "metadata": {
  "kernelspec": {
   "display_name": ".venv",
   "language": "python",
   "name": "python3"
  },
  "language_info": {
   "codemirror_mode": {
    "name": "ipython",
    "version": 3
   },
   "file_extension": ".py",
   "mimetype": "text/x-python",
   "name": "python",
   "nbconvert_exporter": "python",
   "pygments_lexer": "ipython3",
   "version": "3.12.0"
  }
 },
 "nbformat": 4,
 "nbformat_minor": 2
}
