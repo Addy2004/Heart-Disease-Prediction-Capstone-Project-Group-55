{
 "cells": [
  {
   "cell_type": "markdown",
   "metadata": {},
   "source": [
    "Imports"
   ]
  },
  {
   "cell_type": "code",
   "execution_count": 1,
   "metadata": {},
   "outputs": [],
   "source": [
    "import pandas as pd\n",
    "import pickle"
   ]
  },
  {
   "cell_type": "markdown",
   "metadata": {},
   "source": [
    "Input (Enter your values here)"
   ]
  },
  {
   "cell_type": "code",
   "execution_count": 2,
   "metadata": {},
   "outputs": [],
   "source": [
    "input = {\n",
    "    # Input Parameters\n",
    "    \"Age\" : 60,              # Age (years)\n",
    "\n",
    "    \"Sex\" : 'M',             # 'M' (Male) or 'F' (Female)\n",
    "\n",
    "    \"ChestPainType\" : 'ASY', # 'TA' (Typical Angina), 'ATA' (Atypical Angina), \n",
    "                             # 'NAP' (Non-Anginal Pain), 'ASY' (Asymptomatic)\n",
    "\n",
    "    \"RestingBP\" : 100,       # Resting Blood Pressure (mm Hg)\n",
    "\n",
    "    \"Cholesterol\" : 248,     # Serum Cholesterol (mm/dl)\n",
    "\n",
    "    \"FastingBS\" : 0,         # Fasting Blood Sugar (mg/dl)\n",
    "                             # 1 if FastingBS > 120, otherwise 0\n",
    "\n",
    "    \"RestingECG\" : 'Normal', # Resting Electrocardiogram Results\n",
    "                             # 'Normal': Normal, \n",
    "                             # 'ST':     having ST-T wave abnormality \n",
    "                             # 'LVH':    showing probable or definite left \n",
    "                             #           ventricular hypertrophy by Estes' \n",
    "                             #           criteria\n",
    "\n",
    "    \"MaxHR\" : 125,           # Max heart rate achieved\n",
    "                             # (should be between 60 to 202)\n",
    "                              \n",
    "    \"ExerciseAngina\" : 'N',  # Exercise induced angina: 'Y' (Yes) / 'N' (No) \n",
    "\n",
    "    \"Oldpeak\" : 1.0,         # ST (Numeric values measured in depression)\n",
    "    \n",
    "    \"ST_Slope\" : 'Flat'      # Slope of the peak exercise ST segment\n",
    "                             # 'Up':   upsloping\n",
    "                             # 'Flat': flat\n",
    "                             # 'Down': downsloping\n",
    "}"
   ]
  },
  {
   "cell_type": "code",
   "execution_count": 3,
   "metadata": {},
   "outputs": [],
   "source": [
    "df = pd.DataFrame([input])\n",
    "string_col = df.select_dtypes(include=\"object\").columns\n",
    "df[string_col] = df[string_col].astype(\"string\")\n",
    "\n",
    "string_col = df.select_dtypes(\"string\").columns.to_list()\n",
    "num_col = df.columns.to_list()\n",
    "for col in string_col:\n",
    "    num_col.remove(col)\n",
    "\n",
    "target = \"HeartDisease\""
   ]
  },
  {
   "cell_type": "code",
   "execution_count": 4,
   "metadata": {},
   "outputs": [],
   "source": [
    "# One Hot Encoding\n",
    "df_nontree = pd.get_dummies(df, columns=string_col, drop_first=False)\n",
    "bool_cols = df.select_dtypes(include=['bool']).columns\n",
    "df_nontree[bool_cols] = df_nontree[bool_cols].astype(int)"
   ]
  },
  {
   "cell_type": "code",
   "execution_count": 5,
   "metadata": {},
   "outputs": [],
   "source": [
    "# Label Encoding\n",
    "from sklearn.preprocessing import LabelEncoder\n",
    "df_tree = df.apply(LabelEncoder().fit_transform)"
   ]
  },
  {
   "cell_type": "code",
   "execution_count": 6,
   "metadata": {},
   "outputs": [],
   "source": [
    "# loading the dataframe from training models (nontree)\n",
    "dfNontree = pickle.load(open(\"dfNontree.pkl\", \"rb\"))\n",
    "\n",
    "features_col_nontree = dfNontree.columns.to_list()\n",
    "features_col_nontree.remove(target)\n",
    "\n",
    "missing_cols = set(dfNontree.columns) - set(df_nontree.columns) - {target}\n",
    "for col in missing_cols:\n",
    "    df_nontree[col] = 0\n",
    "\n",
    "df_nontree = df_nontree[features_col_nontree]"
   ]
  },
  {
   "cell_type": "code",
   "execution_count": 7,
   "metadata": {},
   "outputs": [],
   "source": [
    "# loading the dataframe from training models (tree)\n",
    "dfTree = pickle.load(open(\"dfTree.pkl\", \"rb\"))\n",
    "\n",
    "features_col_tree = dfTree.columns.to_list()\n",
    "features_col_tree.remove(target)"
   ]
  },
  {
   "cell_type": "code",
   "execution_count": 8,
   "metadata": {},
   "outputs": [],
   "source": [
    "# loading the scaler back from training to scale input data\n",
    "scaler = pickle.load(open(\"MinMaxScaler.pkl\", \"rb\"))\n",
    "scaled_df_nontree = scaler.transform(df_nontree)"
   ]
  },
  {
   "cell_type": "markdown",
   "metadata": {},
   "source": [
    "Logistic Regression Model"
   ]
  },
  {
   "cell_type": "code",
   "execution_count": 9,
   "metadata": {},
   "outputs": [
    {
     "name": "stdout",
     "output_type": "stream",
     "text": [
      "Prediction: [1]\n",
      "Probability: [[0.15403369 0.84596631]]\n"
     ]
    }
   ],
   "source": [
    "lrModel = pickle.load(open(\"Models/Logistic Regression/logisticRegressionModel.pkl\", \"rb\"))\n",
    "print(f\"Prediction: {lrModel.predict(scaled_df_nontree)}\")\n",
    "print(f\"Probability: {lrModel.predict_proba(scaled_df_nontree)}\")\n",
    "# 0 - Normal\n",
    "# 1 - HeartDisease"
   ]
  },
  {
   "cell_type": "markdown",
   "metadata": {},
   "source": [
    "Naive Bayers Model"
   ]
  },
  {
   "cell_type": "code",
   "execution_count": 10,
   "metadata": {},
   "outputs": [
    {
     "name": "stdout",
     "output_type": "stream",
     "text": [
      "Prediction: [1]\n",
      "Probability: [[0.00302467 0.99697533]]\n"
     ]
    }
   ],
   "source": [
    "nbModel = pickle.load(open(\"Models/Naive Bayers/naiveBayersModel.pkl\", \"rb\"))\n",
    "print(f\"Prediction: {nbModel.predict(scaled_df_nontree)}\")\n",
    "print(f\"Probability: {nbModel.predict_proba(scaled_df_nontree)}\")\n",
    "# 0 - Normal\n",
    "# 1 - HeartDisease"
   ]
  },
  {
   "cell_type": "markdown",
   "metadata": {},
   "source": [
    "Support Vector Machines (SVM)"
   ]
  },
  {
   "cell_type": "markdown",
   "metadata": {},
   "source": [
    "Linear Kernel:"
   ]
  },
  {
   "cell_type": "code",
   "execution_count": 11,
   "metadata": {},
   "outputs": [
    {
     "name": "stdout",
     "output_type": "stream",
     "text": [
      "Prediction: [1]\n",
      "Probability: [[0.17063222 0.82936778]]\n"
     ]
    }
   ],
   "source": [
    "linearSVMModel = pickle.load(open(\"Models/Support Vector Machines/Linear Kernel/linearKernelSVM.pkl\", \"rb\"))\n",
    "print(f\"Prediction: {linearSVMModel.predict(scaled_df_nontree)}\")\n",
    "print(f\"Probability: {linearSVMModel.predict_proba(scaled_df_nontree)}\")\n",
    "# 0 - Normal\n",
    "# 1 - HeartDisease"
   ]
  },
  {
   "cell_type": "markdown",
   "metadata": {},
   "source": [
    "Sigmoid Kernel:"
   ]
  },
  {
   "cell_type": "code",
   "execution_count": 12,
   "metadata": {},
   "outputs": [
    {
     "name": "stdout",
     "output_type": "stream",
     "text": [
      "Prediction: [1]\n",
      "Probability: [[0.31794056 0.68205944]]\n"
     ]
    }
   ],
   "source": [
    "sigmoidSVMModel = pickle.load(open(\"Models/Support Vector Machines/Sigmoid Kernel/sigmoidKernelSVM.pkl\", \"rb\"))\n",
    "print(f\"Prediction: {sigmoidSVMModel.predict(scaled_df_nontree)}\")\n",
    "print(f\"Probability: {sigmoidSVMModel.predict_proba(scaled_df_nontree)}\")\n",
    "# 0 - Normal\n",
    "# 1 - HeartDisease"
   ]
  },
  {
   "cell_type": "markdown",
   "metadata": {},
   "source": [
    "RBF Kernel:"
   ]
  },
  {
   "cell_type": "code",
   "execution_count": 13,
   "metadata": {},
   "outputs": [
    {
     "name": "stdout",
     "output_type": "stream",
     "text": [
      "Prediction: [1]\n",
      "Probability: [[0.11797436 0.88202564]]\n"
     ]
    }
   ],
   "source": [
    "rbfSVMModel = pickle.load(open(\"Models/Support Vector Machines/RBF Kernel/rbfKernelSVM.pkl\", \"rb\"))\n",
    "print(f\"Prediction: {rbfSVMModel.predict(scaled_df_nontree)}\")\n",
    "print(f\"Probability: {rbfSVMModel.predict_proba(scaled_df_nontree)}\")\n",
    "# 0 - Normal\n",
    "# 1 - HeartDisease"
   ]
  },
  {
   "cell_type": "markdown",
   "metadata": {},
   "source": [
    "Polynomial Kernel:"
   ]
  },
  {
   "cell_type": "code",
   "execution_count": 14,
   "metadata": {},
   "outputs": [
    {
     "name": "stdout",
     "output_type": "stream",
     "text": [
      "Prediction: [1]\n",
      "Probability: [[0.15182725 0.84817275]]\n"
     ]
    }
   ],
   "source": [
    "polySVMModel = pickle.load(open(\"Models/Support Vector Machines/Polynomial Kernel/polynomialKernelSVM.pkl\", \"rb\"))\n",
    "print(f\"Prediction: {polySVMModel.predict(scaled_df_nontree)}\")\n",
    "print(f\"Probability: {polySVMModel.predict_proba(scaled_df_nontree)}\")\n",
    "# 0 - Normal\n",
    "# 1 - HeartDisease"
   ]
  },
  {
   "cell_type": "markdown",
   "metadata": {},
   "source": [
    "KNN"
   ]
  },
  {
   "cell_type": "code",
   "execution_count": 15,
   "metadata": {},
   "outputs": [
    {
     "name": "stdout",
     "output_type": "stream",
     "text": [
      "Prediction: [1]\n",
      "Probability: [[0.09375 0.90625]]\n"
     ]
    }
   ],
   "source": [
    "knnModel = pickle.load(open(\"Models/KNN/knnModel.pkl\", \"rb\"))\n",
    "print(f\"Prediction: {knnModel.predict(scaled_df_nontree)}\")\n",
    "print(f\"Probability: {knnModel.predict_proba(scaled_df_nontree)}\")\n",
    "# 0 - Normal\n",
    "# 1 - HeartDisease"
   ]
  },
  {
   "cell_type": "markdown",
   "metadata": {},
   "source": [
    "Decision Tree Classifier"
   ]
  },
  {
   "cell_type": "code",
   "execution_count": 16,
   "metadata": {},
   "outputs": [
    {
     "name": "stdout",
     "output_type": "stream",
     "text": [
      "Prediction: [1]\n",
      "Probability: [[0. 1.]]\n"
     ]
    }
   ],
   "source": [
    "dtcModel = pickle.load(open(\"Models/Decision Tree/decisionTreeClassifierModel.pkl\", \"rb\"))\n",
    "print(f\"Prediction: {dtcModel.predict(df_tree)}\")\n",
    "print(f\"Probability: {dtcModel.predict_proba(df_tree)}\")\n",
    "# 0 - Normal\n",
    "# 1 - HeartDisease"
   ]
  },
  {
   "cell_type": "markdown",
   "metadata": {},
   "source": [
    "Random Forest"
   ]
  },
  {
   "cell_type": "code",
   "execution_count": 17,
   "metadata": {},
   "outputs": [
    {
     "name": "stdout",
     "output_type": "stream",
     "text": [
      "Prediction: [1]\n",
      "Probability: [[0.29 0.71]]\n"
     ]
    }
   ],
   "source": [
    "rfModel = pickle.load(open(\"Models/Random Forest/randomForestModel.pkl\", \"rb\"))\n",
    "print(f\"Prediction: {rfModel.predict(df_tree)}\")\n",
    "print(f\"Probability: {rfModel.predict_proba(df_tree)}\")\n",
    "# 0 - Normal\n",
    "# 1 - HeartDisease"
   ]
  },
  {
   "cell_type": "markdown",
   "metadata": {},
   "source": [
    "XGBoost"
   ]
  },
  {
   "cell_type": "code",
   "execution_count": 18,
   "metadata": {},
   "outputs": [
    {
     "name": "stdout",
     "output_type": "stream",
     "text": [
      "Prediction: [1]\n",
      "Probability: [[0.01692301 0.983077  ]]\n"
     ]
    }
   ],
   "source": [
    "xgbModel = pickle.load(open(\"Models/XGBoost/xgboostModel.pkl\", \"rb\"))\n",
    "print(f\"Prediction: {xgbModel.predict(df_tree)}\")\n",
    "print(f\"Probability: {xgbModel.predict_proba(df_tree)}\")\n",
    "# 0 - Normal\n",
    "# 1 - HeartDisease"
   ]
  }
 ],
 "metadata": {
  "kernelspec": {
   "display_name": "Python 3",
   "language": "python",
   "name": "python3"
  },
  "language_info": {
   "codemirror_mode": {
    "name": "ipython",
    "version": 3
   },
   "file_extension": ".py",
   "mimetype": "text/x-python",
   "name": "python",
   "nbconvert_exporter": "python",
   "pygments_lexer": "ipython3",
   "version": "3.12.7"
  }
 },
 "nbformat": 4,
 "nbformat_minor": 2
}
